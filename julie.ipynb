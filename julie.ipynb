{
 "cells": [
  {
   "cell_type": "code",
   "execution_count": 1,
   "metadata": {},
   "outputs": [],
   "source": [
    "import numpy as np\n",
    "import matplotlib.pyplot as plt\n",
    "import scipy.stats as sts\n"
   ]
  },
  {
   "cell_type": "code",
   "execution_count": 2,
   "metadata": {},
   "outputs": [],
   "source": [
    "data_train = np.load('data/fashion_test.npy', mmap_mode='r')\n",
    "data_test = np.load('data/fashion_train.npy', mmap_mode='r')"
   ]
  },
  {
   "cell_type": "code",
   "execution_count": 3,
   "metadata": {},
   "outputs": [],
   "source": [
    "X_train = data_train[:, :-1]\n",
    "y_train = data_train[:, -1]\n"
   ]
  },
  {
   "cell_type": "code",
   "execution_count": 22,
   "metadata": {},
   "outputs": [],
   "source": [
    "class NaiveBayes():\n",
    "    def __init__(self):\n",
    "        self.prior = None\n",
    "        self.posterior = None\n",
    "\n",
    "    def fit(self, X, y):\n",
    "        class_labels = np.unique(y)\n",
    "        n, n_features = X.shape[0], X.shape[1]\n",
    "\n",
    "        # Prior class probabilities\n",
    "        prior = [sum(y == c) / n for c in class_labels]\n",
    "        self.prior = prior\n",
    "\n",
    "         # Posterior probabilities using KDE\n",
    "        posterior = []\n",
    "        \n",
    "                \n",
    "\n",
    "        self.posterior = posterior * prior\n",
    "\n",
    "    def predict_proba(self, X):\n",
    "        pass\n",
    "\n",
    "    def predict(self, X):\n",
    "        pass \n"
   ]
  },
  {
   "cell_type": "code",
   "execution_count": 23,
   "metadata": {},
   "outputs": [],
   "source": [
    "NB = NaiveBayes()"
   ]
  },
  {
   "cell_type": "code",
   "execution_count": 24,
   "metadata": {},
   "outputs": [
    {
     "data": {
      "text/plain": [
       "[0.2, 0.2, 0.2, 0.2, 0.2]"
      ]
     },
     "execution_count": 24,
     "metadata": {},
     "output_type": "execute_result"
    }
   ],
   "source": [
    "NB.fit(X_train,y_train)"
   ]
  }
 ],
 "metadata": {
  "kernelspec": {
   "display_name": "ML",
   "language": "python",
   "name": "python3"
  },
  "language_info": {
   "codemirror_mode": {
    "name": "ipython",
    "version": 3
   },
   "file_extension": ".py",
   "mimetype": "text/x-python",
   "name": "python",
   "nbconvert_exporter": "python",
   "pygments_lexer": "ipython3",
   "version": "3.10.0"
  },
  "orig_nbformat": 4
 },
 "nbformat": 4,
 "nbformat_minor": 2
}
