{
 "cells": [
  {
   "cell_type": "code",
   "execution_count": 2,
   "metadata": {},
   "outputs": [],
   "source": [
    "import numpy as np\n",
    "import matplotlib.pyplot as plt\n",
    "import scipy.stats as sts\n",
    "import pandas as pd\n",
    "import seaborn as sns\n"
   ]
  },
  {
   "cell_type": "code",
   "execution_count": 3,
   "metadata": {},
   "outputs": [],
   "source": [
    "data_train = np.load('data/fashion_train.npy', mmap_mode='r')\n",
    "data_test = np.load('data/fashion_test.npy', mmap_mode='r')"
   ]
  },
  {
   "cell_type": "code",
   "execution_count": 4,
   "metadata": {},
   "outputs": [],
   "source": [
    "X_train = data_train[:, :-1]\n",
    "y_train = data_train[:, -1]\n",
    "X_test = data_test[:, :-1]\n",
    "y_test = data_test[:, -1]\n"
   ]
  },
  {
   "cell_type": "code",
   "execution_count": 10,
   "metadata": {},
   "outputs": [],
   "source": [
    "class NaiveBayes:\n",
    "    def __init__(self):\n",
    "        # Initialize the NaiveBayes object with None for prior, mean, and var\n",
    "        self.prior = None\n",
    "        self.mean = None\n",
    "        self.var = None\n",
    "\n",
    "    def fit(self, X, y):\n",
    "        # Get unique class labels and dimensions of the feature matrix\n",
    "        self.class_labels = np.unique(y)\n",
    "        n, n_features = X.shape[0], X.shape[1]\n",
    "\n",
    "        # Prior class probabilities\n",
    "        prior = [np.sum(y == c) / n for c in self.class_labels]\n",
    "\n",
    "        # Calculate means and variances for each class and feature using list comprehensions\n",
    "        mean = np.array([np.mean(X[y == c], axis=0) for c in self.class_labels])\n",
    "        var = np.array([np.var(X[y == c], axis=0) for c in self.class_labels])\n",
    "\n",
    "        # Store prior, mean, and var as class variables\n",
    "        self.prior = prior\n",
    "        self.mean = mean\n",
    "        self.var = var\n",
    "\n",
    "    def predict(self, X):\n",
    "        # Loop over each sample in X and make predictions using _predict method\n",
    "        y_pred = [self._predict(x) for x in X]\n",
    "        return np.array(y_pred)\n",
    "\n",
    "    def _predict(self, x):\n",
    "        posteriors = []\n",
    "\n",
    "        # calculate posterior probability for each class\n",
    "        for i, label in enumerate(self.class_labels):\n",
    "            prior = np.log(self.prior[i])  # Calculate the log-prior probability for the current class\n",
    "            likelihood = np.sum(self._pdf(i, x))  # Calculate the log-likelihood (sum of log-pdf) for the current class\n",
    "            posterior = likelihood + prior  # Calculate the log-posterior probability for the current class\n",
    "            posteriors.append(posterior)\n",
    "\n",
    "        # return class with the highest posterior\n",
    "        return self.class_labels[np.argmax(posteriors)]\n",
    "\n",
    "    # def _pdf(self, class_idx, x):\n",
    "    #     # Calculate the probability density function (pdf) for a given class\n",
    "    #     mean = self.mean[class_idx]\n",
    "    #     var = self.var[class_idx]\n",
    "\n",
    "    #     # formula for pdf\n",
    "    #     numerator = np.exp(-((x - mean) ** 2) / (2 * var))\n",
    "    #     denominator = np.sqrt(2 * np.pi * var)\n",
    "    #     return numerator / denominator\n"
   ]
  },
  {
   "cell_type": "code",
   "execution_count": null,
   "metadata": {},
   "outputs": [],
   "source": [
    "# Testing\n",
    "if __name__ == \"__main__\":\n",
    "\n",
    "    def accuracy(y_true, y_pred):\n",
    "        accuracy = np.sum(y_true == y_pred) / len(y_true)\n",
    "        return accuracy\n",
    "\n",
    "    \n",
    "    nb = NaiveBayes()\n",
    "    nb.fit(X_train, y_train)\n",
    "    predictions = nb.predict(X_test)\n",
    "\n",
    "    print(\"Naive Bayes classification accuracy\", accuracy(y_test, predictions))"
   ]
  },
  {
   "cell_type": "code",
   "execution_count": null,
   "metadata": {},
   "outputs": [],
   "source": []
  },
  {
   "cell_type": "code",
   "execution_count": null,
   "metadata": {},
   "outputs": [],
   "source": []
  },
  {
   "cell_type": "code",
   "execution_count": null,
   "metadata": {},
   "outputs": [],
   "source": []
  },
  {
   "cell_type": "code",
   "execution_count": null,
   "metadata": {},
   "outputs": [],
   "source": []
  },
  {
   "cell_type": "code",
   "execution_count": null,
   "metadata": {},
   "outputs": [],
   "source": []
  },
  {
   "cell_type": "code",
   "execution_count": null,
   "metadata": {},
   "outputs": [],
   "source": [
    "# class NaiveBayes:\n",
    "#     def __init__(self):\n",
    "#         # Initialize the NaiveBayes object with None for prior, mean, and var\n",
    "#         self.prior = None\n",
    "#         self.mean = None\n",
    "#         self.var = None\n",
    "        \n",
    "    \n",
    "\n",
    "#     def fit(self, X, y):\n",
    "#         # Get unique class labels and dimensions of the feature matrix\n",
    "#         self.class_labels = np.unique(y)\n",
    "#         n, n_features = X.shape[0], X.shape[1]\n",
    "        \n",
    "#         # Prior class probabilities\n",
    "#         prior = [np.sum(y == c) / n for c in self.class_labels]\n",
    "        \n",
    "#         # Calculate means and variances for each class and feature using list comprehensions\n",
    "#         mean = np.array([np.mean(X[y == c], axis=0) for c in self.class_labels])\n",
    "#         var = np.array([np.var(X[y == c], axis=0) for c in self.class_labels])\n",
    "\n",
    "#         # Store prior, mean, and var as class variables\n",
    "#         self.prior = prior\n",
    "#         self.mean = mean\n",
    "#         self.var = var \n",
    "            \n",
    "\n",
    "#     def predict(self, X):\n",
    "#         # Loop over each sample in X and make predictions using _predict method\n",
    "#         y_pred = [self._predict(x) for x in X]\n",
    "#         return np.array(y_pred)\n",
    "\n",
    "\n",
    "\n",
    "#     def _predict(self, c):\n",
    "#         posteriors = []\n",
    "        \n",
    "\n",
    "        \n",
    "\n",
    "\n",
    "        \n",
    "\n"
   ]
  }
 ],
 "metadata": {
  "kernelspec": {
   "display_name": "ML",
   "language": "python",
   "name": "python3"
  },
  "language_info": {
   "codemirror_mode": {
    "name": "ipython",
    "version": 3
   },
   "file_extension": ".py",
   "mimetype": "text/x-python",
   "name": "python",
   "nbconvert_exporter": "python",
   "pygments_lexer": "ipython3",
   "version": "3.10.0"
  },
  "orig_nbformat": 4
 },
 "nbformat": 4,
 "nbformat_minor": 2
}
