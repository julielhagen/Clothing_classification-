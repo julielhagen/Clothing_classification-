{
 "cells": [
  {
   "cell_type": "code",
   "execution_count": 1,
   "metadata": {},
   "outputs": [],
   "source": [
    "import numpy as np\n",
    "import matplotlib.pyplot as plt\n",
    "import scipy.stats as sts\n",
    "import pandas as pd\n",
    "import seaborn as sns\n"
   ]
  },
  {
   "cell_type": "code",
   "execution_count": 13,
   "metadata": {},
   "outputs": [],
   "source": [
    "data_train = np.load('data/fashion_train.npy', mmap_mode='r')\n",
    "data_test = np.load('data/fashion_test.npy', mmap_mode='r')"
   ]
  },
  {
   "cell_type": "code",
   "execution_count": 14,
   "metadata": {},
   "outputs": [],
   "source": [
    "X_train = data_train[:, :-1]\n",
    "y_train = data_train[:, -1]\n"
   ]
  },
  {
   "cell_type": "code",
   "execution_count": 16,
   "metadata": {},
   "outputs": [],
   "source": [
    "import numpy as np\n",
    "\n",
    "class NaiveBayes():\n",
    "    def __init__(self):\n",
    "        # Initialize the NaiveBayes object with None for prior, mean, and var\n",
    "        self.prior = None\n",
    "        self.mean = None\n",
    "        self.var = None\n",
    "    \n",
    "    def predict(self, X):\n",
    "        # Make predictions for each sample in X using the fit method\n",
    "        y_pred = [self.fit(x) for x in X]\n",
    "        return np.array(y_pred)\n",
    "\n",
    "    def fit(self, X, y):\n",
    "        # Get unique class labels and dimensions of the feature matrix\n",
    "        class_labels = np.unique(y)\n",
    "        n, n_features = X.shape[0], X.shape[1]\n",
    "        \n",
    "        # Prior class probabilities\n",
    "        prior = [np.sum(y == c) / n for c in class_labels]\n",
    "        \n",
    "        # Calculate means and variances for each class and feature using list comprehensions\n",
    "        mean = np.array([np.mean(X[y == c], axis=0) for c in class_labels])\n",
    "        var = np.array([np.var(X[y == c], axis=0) for c in class_labels])\n",
    "\n",
    "        # Store prior, mean, and var as class variables\n",
    "        self.prior = prior\n",
    "        self.mean = mean\n",
    "        self.var = var\n",
    "\n",
    "        # Posterior probabilities using Gaussian\n",
    "        posteriors = []\n",
    "        for i, c in enumerate(class_labels):\n",
    "            posterior = np.sum(np.log(self._pdf(i, X)))\n",
    "            posterior = prior[i] + posterior\n",
    "            posteriors.append(posterior)\n",
    "        \n",
    "        # Return the class with the highest posterior probability\n",
    "        return class_labels[np.argmax(posteriors)]\n",
    "\n",
    "    def _pdf(self, class_idx, x):\n",
    "        # Calculate the probability density function (pdf) for a given class\n",
    "        mean = self.mean[class_idx]\n",
    "        var = self.var[class_idx]\n",
    "        numerator = np.exp(-((x - mean) ** 2) / (2 * var)) # the likelihood of the given feature values\n",
    "        denominator = np.sqrt(2 * np.pi * var) #normalizes the likelihood\n",
    "        return numerator / denominator \n"
   ]
  },
  {
   "cell_type": "code",
   "execution_count": 5,
   "metadata": {},
   "outputs": [],
   "source": [
    "NB = NaiveBayes()"
   ]
  },
  {
   "cell_type": "code",
   "execution_count": 8,
   "metadata": {},
   "outputs": [
    {
     "data": {
      "text/plain": [
       "1"
      ]
     },
     "execution_count": 8,
     "metadata": {},
     "output_type": "execute_result"
    }
   ],
   "source": [
    "NB.fit(X_train,y_train)"
   ]
  },
  {
   "cell_type": "code",
   "execution_count": 18,
   "metadata": {},
   "outputs": [
    {
     "name": "stdout",
     "output_type": "stream",
     "text": [
      "Naive Bayes classification accuracy 0.505\n"
     ]
    }
   ],
   "source": [
    "# Testing\n",
    "if __name__ == \"__main__\":\n",
    "    # Imports\n",
    "    from sklearn.model_selection import train_test_split\n",
    "    from sklearn import datasets\n",
    "\n",
    "    def accuracy_score(y_true, y_pred):\n",
    "        accuracy = np.sum(y_true == y_pred) / len(y_true)\n",
    "        return accuracy\n",
    "\n",
    "    X, y = datasets.make_classification(\n",
    "        n_samples=1000, n_features=10, n_classes=2, random_state=123\n",
    "    )\n",
    "    X_train, X_test, y_train, y_test = train_test_split(\n",
    "        X, y, test_size=0.2, random_state=123\n",
    "    )\n",
    "\n",
    "\n",
    "    nb = NaiveBayes()\n",
    "    nb.fit(X_train, y_train)\n",
    "    predictions = nb.fit(X_test,y_test)\n",
    "\n",
    "    print(\"Naive Bayes classification accuracy\", accuracy_score(y_test, predictions))"
   ]
  }
 ],
 "metadata": {
  "kernelspec": {
   "display_name": "ML",
   "language": "python",
   "name": "python3"
  },
  "language_info": {
   "codemirror_mode": {
    "name": "ipython",
    "version": 3
   },
   "file_extension": ".py",
   "mimetype": "text/x-python",
   "name": "python",
   "nbconvert_exporter": "python",
   "pygments_lexer": "ipython3",
   "version": "3.10.0"
  },
  "orig_nbformat": 4
 },
 "nbformat": 4,
 "nbformat_minor": 2
}
