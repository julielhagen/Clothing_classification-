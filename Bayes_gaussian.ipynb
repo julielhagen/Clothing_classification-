{
 "cells": [
  {
   "cell_type": "code",
   "execution_count": 1,
   "metadata": {},
   "outputs": [],
   "source": [
    "import numpy as np\n",
    "import matplotlib.pyplot as plt\n",
    "import scipy.stats as sts\n",
    "import pandas as pd\n",
    "\n"
   ]
  },
  {
   "cell_type": "code",
   "execution_count": 2,
   "metadata": {},
   "outputs": [],
   "source": [
    "data_train = np.load('data/fashion_train.npy', mmap_mode='r')\n",
    "data_test = np.load('data/fashion_test.npy', mmap_mode='r')"
   ]
  },
  {
   "cell_type": "code",
   "execution_count": 3,
   "metadata": {},
   "outputs": [],
   "source": [
    "X_train = data_train[:, :-1]\n",
    "y_train = data_train[:, -1]\n",
    "X_test = data_test[:, :-1]\n",
    "y_test = data_test[:, -1]\n"
   ]
  },
  {
   "cell_type": "code",
   "execution_count": 4,
   "metadata": {},
   "outputs": [],
   "source": [
    "class NaiveBayes:\n",
    "    def __init__(self):\n",
    "        # Initialize the NaiveBayes object with None for prior, mean, and var\n",
    "        self.prior = None\n",
    "        self.mean = None\n",
    "        self.var = None\n",
    "    \n",
    "\n",
    "    def fit(self, X, y):\n",
    "        # Get unique class labels and dimensions of the feature matrix\n",
    "        self.class_labels = np.unique(y)\n",
    "        n, n_features = X.shape[0], X.shape[1]\n",
    "        \n",
    "        # Prior class probabilities\n",
    "        prior = [np.sum(y == c) / n for c in self.class_labels]\n",
    "        \n",
    "        # Calculate means and variances for each class and feature using list comprehensions\n",
    "        mean = np.array([np.mean(X[y == c], axis=0) for c in self.class_labels])\n",
    "        var = np.array([np.var(X[y == c], axis=0) for c in self.class_labels])\n",
    "\n",
    "        # Store prior, mean, and var as class variables\n",
    "        self.prior = prior\n",
    "        self.mean = mean\n",
    "        self.var = var\n",
    "            \n",
    "\n",
    "    def predict(self, X):\n",
    "        # Loop over each sample in X and make predictions using _predict method\n",
    "        y_pred = [self._predict(x) for x in X]\n",
    "        return np.array(y_pred)\n",
    "\n",
    "    def _predict(self, c):\n",
    "        posteriors = []\n",
    "\n",
    "        # calculate posterior probability for each class\n",
    "        for i, c in enumerate(self.class_labels):# Loop over each class label\n",
    "            prior = np.log(self.prior[i]) # Calculate the log-prior probability for the current class\n",
    "            likelihood = np.sum(np.log(self._pdf(i, c))) ## Calculate the log-likelihood (sum of log-pdf) for the current class\n",
    "            posterior = likelihood + prior #  Calculate the log-posterior probability for the current class\n",
    "            posteriors.append(posterior)\n",
    "\n",
    "        # return class with the highest posterior\n",
    "        return self.class_labels[np.argmax(posteriors)]\n",
    "\n",
    "\n",
    "    def _pdf(self, class_idx, x):\n",
    "        # Calculate the probability density function (pdf) for a given class\n",
    "        mean = self.mean[class_idx]\n",
    "        var = self.var[class_idx]\n",
    "\n",
    "        #formula for pdf\n",
    "        numerator = np.exp(-((x - mean) ** 2) / (2 * var))\n",
    "        denominator = np.sqrt(2 * np.pi * var)\n",
    "        return numerator / denominator\n",
    "\n",
    "\n"
   ]
  },
  {
   "cell_type": "code",
   "execution_count": 18,
   "metadata": {},
   "outputs": [],
   "source": []
  },
  {
   "cell_type": "code",
   "execution_count": 7,
   "metadata": {},
   "outputs": [
    {
     "name": "stderr",
     "output_type": "stream",
     "text": [
      "/var/folders/49/1k50p6kj6d173t0f0hl4h0700000gn/T/ipykernel_97453/3655832493.py:50: RuntimeWarning: divide by zero encountered in true_divide\n",
      "  numerator = np.exp(-((x - mean) ** 2) / (2 * var))\n",
      "/var/folders/49/1k50p6kj6d173t0f0hl4h0700000gn/T/ipykernel_97453/3655832493.py:52: RuntimeWarning: invalid value encountered in true_divide\n",
      "  return numerator / denominator\n",
      "/var/folders/49/1k50p6kj6d173t0f0hl4h0700000gn/T/ipykernel_97453/3655832493.py:38: RuntimeWarning: divide by zero encountered in log\n",
      "  likelihood = np.sum(np.log(self._pdf(i, label))) ## Calculate the log-likelihood (sum of log-pdf) for the current class\n"
     ]
    },
    {
     "data": {
      "text/plain": [
       "1"
      ]
     },
     "execution_count": 7,
     "metadata": {},
     "output_type": "execute_result"
    }
   ],
   "source": [
    "# Example usage\n",
    "nb = NaiveBayes()\n",
    "\n",
    "# Assuming you have training data X_train, y_train\n",
    "nb.fit(X_train, y_train)\n",
    "\n",
    "# Now you can make predictions\n",
    "nb.predict(X_test)\n",
    "nb._predict(X_test)\n"
   ]
  },
  {
   "cell_type": "code",
   "execution_count": 8,
   "metadata": {},
   "outputs": [
    {
     "name": "stderr",
     "output_type": "stream",
     "text": [
      "/var/folders/49/1k50p6kj6d173t0f0hl4h0700000gn/T/ipykernel_97453/3655832493.py:50: RuntimeWarning: divide by zero encountered in true_divide\n",
      "  numerator = np.exp(-((x - mean) ** 2) / (2 * var))\n",
      "/var/folders/49/1k50p6kj6d173t0f0hl4h0700000gn/T/ipykernel_97453/3655832493.py:52: RuntimeWarning: invalid value encountered in true_divide\n",
      "  return numerator / denominator\n",
      "/var/folders/49/1k50p6kj6d173t0f0hl4h0700000gn/T/ipykernel_97453/3655832493.py:38: RuntimeWarning: divide by zero encountered in log\n",
      "  likelihood = np.sum(np.log(self._pdf(i, label))) ## Calculate the log-likelihood (sum of log-pdf) for the current class\n"
     ]
    },
    {
     "name": "stdout",
     "output_type": "stream",
     "text": [
      "Naive Bayes classification accuracy 0.2\n"
     ]
    }
   ],
   "source": [
    "# Testing\n",
    "if __name__ == \"__main__\":\n",
    "    \n",
    " def accuracy(y_true, y_pred):\n",
    "        accuracy = np.sum(y_true == y_pred) / len(y_true)\n",
    "        return accuracy\n",
    "\n",
    "nb = NaiveBayes()\n",
    "nb.fit(X_train, y_train)\n",
    "predictions = nb.predict(X_test)\n",
    "\n",
    "print(\"Naive Bayes classification accuracy\", accuracy(y_test, predictions))"
   ]
  }
 ],
 "metadata": {
  "kernelspec": {
   "display_name": "ML",
   "language": "python",
   "name": "python3"
  },
  "language_info": {
   "codemirror_mode": {
    "name": "ipython",
    "version": 3
   },
   "file_extension": ".py",
   "mimetype": "text/x-python",
   "name": "python",
   "nbconvert_exporter": "python",
   "pygments_lexer": "ipython3",
   "version": "3.10.0"
  }
 },
 "nbformat": 4,
 "nbformat_minor": 2
}
