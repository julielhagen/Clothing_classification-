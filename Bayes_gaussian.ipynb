{
 "cells": [
  {
   "cell_type": "code",
   "execution_count": 1,
   "metadata": {},
   "outputs": [],
   "source": [
    "import numpy as np\n",
    "import matplotlib.pyplot as plt\n",
    "import scipy.stats as sts\n",
    "import pandas as pd\n",
    "import seaborn as sns\n",
    "from scipy.stats import norm\n"
   ]
  },
  {
   "cell_type": "code",
   "execution_count": 2,
   "metadata": {},
   "outputs": [],
   "source": [
    "data_train = np.load('data/fashion_train.npy', mmap_mode='r')\n",
    "data_test = np.load('data/fashion_test.npy', mmap_mode='r')"
   ]
  },
  {
   "cell_type": "code",
   "execution_count": 3,
   "metadata": {},
   "outputs": [],
   "source": [
    "X_train = data_train[:, :-1]\n",
    "y_train = data_train[:, -1]\n",
    "X_test = data_test[:, :-1]\n",
    "y_test = data_test[:, -1]\n"
   ]
  },
  {
   "cell_type": "code",
   "execution_count": 5,
   "metadata": {},
   "outputs": [],
   "source": [
    "class NaiveBayes:\n",
    "    def __init__(self):\n",
    "        # Initialize the NaiveBayes object with None for prior, mean, and var\n",
    "        self.prior = None\n",
    "        self.mean = None\n",
    "        self.var = None\n",
    "    \n",
    "\n",
    "    def fit(self, X, y):\n",
    "        # Get unique class labels and dimensions of the feature matrix\n",
    "        self.class_labels = np.unique(y)\n",
    "        n, n_features = X.shape[0], X.shape[1]\n",
    "        \n",
    "        # Prior class probabilities\n",
    "        prior = [np.sum(y == c) / n for c in self.class_labels]\n",
    "        \n",
    "        # Calculate means and variances for each class and feature using list comprehensions\n",
    "        mean = np.array([np.mean(X[y == c], axis=0) for c in self.class_labels])\n",
    "        var = np.array([np.var(X[y == c], axis=0) for c in self.class_labels])\n",
    "\n",
    "        # Store prior, mean, and var as class variables\n",
    "        self.prior = prior\n",
    "        self.mean = mean\n",
    "        self.var = var\n",
    "            \n",
    "\n",
    "    def predict(self, X):\n",
    "        # Loop over each sample in X and make predictions using _predict method\n",
    "        y_pred = [self._predict(x) for x in X]\n",
    "        return np.array(y_pred)\n",
    "\n",
    "    # def _predict(self, c):\n",
    "    #     posteriors = []\n",
    "\n",
    "    #     # calculate posterior probability for each class\n",
    "    #     for i, c in enumerate(self.class_labels):# Loop over each class label\n",
    "    #         prior = np.log(self.prior[i]) # Calculate the log-prior probability for the current class\n",
    "    #         likelihood = np.sum(np.log(norm.pdf(i, c))) ## Calculate the log-likelihood (sum of log-pdf) for the current class\n",
    "    #         posterior = likelihood + prior #  Calculate the log-posterior probability for the current class\n",
    "    #         posteriors.append(posterior)\n",
    "\n",
    "    #     # return class with the highest posterior\n",
    "    #     return self.class_labels[np.argmax(posteriors)]\n",
    "\n",
    "    def _predict(self, c):\n",
    "        posteriors = []\n",
    "\n",
    "        # calculate posterior probability for each class\n",
    "        for i, c in enumerate(self.class_labels):\n",
    "            prior = np.log(self.prior[i])  # Calculate the log-prior probability for the current class\n",
    "            likelihood = np.sum(norm.logpdf(c, loc=self.mean[i], scale=np.sqrt(self.var[i])))  # Calculate the log-likelihood (sum of log-pdf) for the current class\n",
    "            posterior = likelihood + prior  # Calculate the log-posterior probability for the current class\n",
    "            posteriors.append(posterior)\n",
    "\n",
    "        # return class with the highest posterior\n",
    "        return self.class_labels[np.argmax(posteriors)]\n",
    "\n",
    "\n",
    "\n",
    "\n",
    "\n",
    "    def _pdf(self, class_idx, x):\n",
    "        # Calculate the probability density function (pdf) for a given class\n",
    "        mean = self.mean[class_idx]\n",
    "        var = self.var[class_idx]\n",
    "\n",
    "        #formula for pdf\n",
    "        numerator = np.exp(-((x - mean) ** 2) / (2 * var))\n",
    "        denominator = np.sqrt(2 * np.pi * var)\n",
    "        return numerator / denominator\n",
    "\n",
    "\n"
   ]
  },
  {
   "cell_type": "code",
   "execution_count": 6,
   "metadata": {},
   "outputs": [
    {
     "name": "stderr",
     "output_type": "stream",
     "text": [
      "/opt/anaconda3/envs/ML/lib/python3.10/site-packages/scipy/stats/_distn_infrastructure.py:2126: RuntimeWarning: divide by zero encountered in true_divide\n",
      "  x = np.asarray((x - loc)/scale, dtype=dtyp)\n"
     ]
    },
    {
     "data": {
      "text/plain": [
       "1"
      ]
     },
     "execution_count": 6,
     "metadata": {},
     "output_type": "execute_result"
    }
   ],
   "source": [
    "# Example usage\n",
    "nb = NaiveBayes()\n",
    "\n",
    "# Assuming you have training data X_train, y_train\n",
    "nb.fit(X_train, y_train)\n",
    "\n",
    "# Now you can make predictions\n",
    "nb.predict(X_test)\n",
    "nb._predict(X_test)\n"
   ]
  },
  {
   "cell_type": "code",
   "execution_count": 7,
   "metadata": {},
   "outputs": [
    {
     "name": "stdout",
     "output_type": "stream",
     "text": [
      "Naive Bayes classification accuracy (array([1, 1, 1, ..., 1, 1, 1], dtype=uint8), 0.2)\n"
     ]
    }
   ],
   "source": [
    "# Testing\n",
    "if __name__ == \"__main__\":\n",
    "    \n",
    " def accuracy(y_true, y_pred):\n",
    "        accuracy = np.sum(y_true == y_pred) / len(y_true)\n",
    "        return y_pred, accuracy\n",
    "\n",
    "nb = NaiveBayes()\n",
    "nb.fit(X_train, y_train)\n",
    "predictions = nb.predict(X_test)\n",
    "\n",
    "print(\"Naive Bayes classification accuracy\", accuracy(y_test, predictions))\n",
    "\n"
   ]
  }
 ],
 "metadata": {
  "kernelspec": {
   "display_name": "ML",
   "language": "python",
   "name": "python3"
  },
  "language_info": {
   "codemirror_mode": {
    "name": "ipython",
    "version": 3
   },
   "file_extension": ".py",
   "mimetype": "text/x-python",
   "name": "python",
   "nbconvert_exporter": "python",
   "pygments_lexer": "ipython3",
   "version": "3.10.0"
  }
 },
 "nbformat": 4,
 "nbformat_minor": 2
}
