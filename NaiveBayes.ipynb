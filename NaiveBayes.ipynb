{
 "cells": [
  {
   "cell_type": "code",
   "execution_count": 1,
   "metadata": {},
   "outputs": [],
   "source": [
    "import numpy as np\n",
    "import scipy.stats as sts"
   ]
  },
  {
   "cell_type": "code",
   "execution_count": 7,
   "metadata": {},
   "outputs": [],
   "source": [
    "data_train = np.load('data/fashion_train.npy', mmap_mode='r')\n",
    "data_test = np.load('data/fashion_test.npy', mmap_mode='r')"
   ]
  },
  {
   "cell_type": "code",
   "execution_count": 8,
   "metadata": {},
   "outputs": [],
   "source": [
    "X_train = data_train[:, :-1]\n",
    "y_train = data_train[:, -1]"
   ]
  },
  {
   "cell_type": "code",
   "execution_count": 103,
   "metadata": {},
   "outputs": [],
   "source": [
    "class NaiveBayes():\n",
    "    def __init__(self, h, pdf_estimator):\n",
    "        # User defined parameters\n",
    "        self.h = h # Step size in hist\n",
    "        self.pdf_estimator = pdf_estimator # Type of pdf-estimator: hist or kde\n",
    "\n",
    "        self.priors = None\n",
    "        self.conditionals = None\n",
    "\n",
    "    def pdf_hist(self, X, y, class_labels):\n",
    "        \n",
    "        self.conditionals = dict()\n",
    "\n",
    "        for cl in class_labels:\n",
    "            for x in X[y == cl]:\n",
    "                bins = int(np.ceil((max(x)-min(x)) / self.h))\n",
    "                d, upper_bound = np.histogram(x, bins)\n",
    "\n",
    "                self.conditionals[cl] = [[d, upper_bound] for d, upper_bound in zip(d, upper_bound)]\n",
    "\n",
    "    def pdf_gaussian_kde(self):\n",
    "        pass\n",
    "\n",
    "    def fit(self, X, y):\n",
    "        class_labels = np.unique(y)\n",
    "        n, m = X.shape[0], X.shape[1]\n",
    "\n",
    "        # Prior class probabilities\n",
    "        self.priors = {cl: sum(y==cl)/n for cl in class_labels}\n",
    "\n",
    "        # Conditional probabilities\n",
    "        if self.pdf_estimator == 'hist':\n",
    "            self.conditionals = self.pdf_hist(X, y, class_labels)\n",
    "        elif self.pdf_estimator == 'kde':\n",
    "            self.conditionals = self.pdf_kde()\n",
    "        else:\n",
    "            'Type of pdf estimator is not available.'\n",
    "\n",
    "    def class_cdf(self, fi, f, cl):\n",
    "        pass\n",
    "\n",
    "    def feature_probs_get(self, x, cl):\n",
    "\n",
    "        class_conditionals = [self.class_cdf(fi, f, cl) for fi, f in enumerate(x)]\n",
    "        return class_conditionals\n",
    "\n",
    "    def predict_proba(self, X):\n",
    "\n",
    "        n, m, K = X.shape[0], X.shape[1], len(self.priors)\n",
    "\n",
    "        # For each sample compute the posterior probabilities for all classes           \n",
    "        posteriors = np.empty((n, K))\n",
    "        for i in range(n):\n",
    "            \n",
    "            # Likelihoods\n",
    "            probs = []\n",
    "            for cl in self.prios.keys():\n",
    "                prior = self.priors[cl]\n",
    "\n",
    "                class_conditionals = self.class_conditionals(X[i], cl)\n",
    "                likelihood = np.prod(class_conditionals)\n",
    "\n",
    "                probs.append(prior * likelihood)\n",
    "\n",
    "                # class_cdf(x)\n",
    "\n",
    "            # Normalize likelihoods to get posteriors\n",
    "            posteriors[i] = likelihood/np.sum(likelihood)\n",
    "\n",
    "            return posteriors\n",
    "\n",
    "    def predict(self, X):\n",
    "\n",
    "        posteriors = self.predict_proba(X)\n",
    "        return np.argmax(posteriors, axis=1)"
   ]
  },
  {
   "cell_type": "code",
   "execution_count": 104,
   "metadata": {},
   "outputs": [],
   "source": [
    "NB = NaiveBayes(0.1, 'hist')"
   ]
  },
  {
   "cell_type": "code",
   "execution_count": 105,
   "metadata": {},
   "outputs": [
    {
     "ename": "TypeError",
     "evalue": "'dict' object is not callable",
     "output_type": "error",
     "traceback": [
      "\u001b[1;31m---------------------------------------------------------------------------\u001b[0m",
      "\u001b[1;31mTypeError\u001b[0m                                 Traceback (most recent call last)",
      "\u001b[1;32mc:\\Users\\idawe\\OneDrive\\Dokumenter\\GitHub\\Clothing_classification-\\NaiveBayes.ipynb Cell 6\u001b[0m line \u001b[0;36m1\n\u001b[1;32m----> <a href='vscode-notebook-cell:/c%3A/Users/idawe/OneDrive/Dokumenter/GitHub/Clothing_classification-/NaiveBayes.ipynb#X11sZmlsZQ%3D%3D?line=0'>1</a>\u001b[0m NB\u001b[39m.\u001b[39;49mfit(X_train, y_train)\n",
      "\u001b[1;32mc:\\Users\\idawe\\OneDrive\\Dokumenter\\GitHub\\Clothing_classification-\\NaiveBayes.ipynb Cell 6\u001b[0m line \u001b[0;36m3\n\u001b[0;32m     <a href='vscode-notebook-cell:/c%3A/Users/idawe/OneDrive/Dokumenter/GitHub/Clothing_classification-/NaiveBayes.ipynb#X11sZmlsZQ%3D%3D?line=30'>31</a>\u001b[0m \u001b[39m# Conditional probabilities\u001b[39;00m\n\u001b[0;32m     <a href='vscode-notebook-cell:/c%3A/Users/idawe/OneDrive/Dokumenter/GitHub/Clothing_classification-/NaiveBayes.ipynb#X11sZmlsZQ%3D%3D?line=31'>32</a>\u001b[0m \u001b[39mif\u001b[39;00m \u001b[39mself\u001b[39m\u001b[39m.\u001b[39mpdf_estimator \u001b[39m==\u001b[39m \u001b[39m'\u001b[39m\u001b[39mhist\u001b[39m\u001b[39m'\u001b[39m:\n\u001b[1;32m---> <a href='vscode-notebook-cell:/c%3A/Users/idawe/OneDrive/Dokumenter/GitHub/Clothing_classification-/NaiveBayes.ipynb#X11sZmlsZQ%3D%3D?line=32'>33</a>\u001b[0m     \u001b[39mself\u001b[39m\u001b[39m.\u001b[39mconditionals \u001b[39m=\u001b[39m \u001b[39mself\u001b[39;49m\u001b[39m.\u001b[39;49mpdf_hist(X, y, class_labels)\n\u001b[0;32m     <a href='vscode-notebook-cell:/c%3A/Users/idawe/OneDrive/Dokumenter/GitHub/Clothing_classification-/NaiveBayes.ipynb#X11sZmlsZQ%3D%3D?line=33'>34</a>\u001b[0m \u001b[39melif\u001b[39;00m \u001b[39mself\u001b[39m\u001b[39m.\u001b[39mpdf_estimator \u001b[39m==\u001b[39m \u001b[39m'\u001b[39m\u001b[39mkde\u001b[39m\u001b[39m'\u001b[39m:\n\u001b[0;32m     <a href='vscode-notebook-cell:/c%3A/Users/idawe/OneDrive/Dokumenter/GitHub/Clothing_classification-/NaiveBayes.ipynb#X11sZmlsZQ%3D%3D?line=34'>35</a>\u001b[0m     \u001b[39mself\u001b[39m\u001b[39m.\u001b[39mconditionals \u001b[39m=\u001b[39m \u001b[39mself\u001b[39m\u001b[39m.\u001b[39mpdf_kde()\n",
      "\u001b[1;32mc:\\Users\\idawe\\OneDrive\\Dokumenter\\GitHub\\Clothing_classification-\\NaiveBayes.ipynb Cell 6\u001b[0m line \u001b[0;36m1\n\u001b[0;32m     <a href='vscode-notebook-cell:/c%3A/Users/idawe/OneDrive/Dokumenter/GitHub/Clothing_classification-/NaiveBayes.ipynb#X11sZmlsZQ%3D%3D?line=9'>10</a>\u001b[0m \u001b[39mdef\u001b[39;00m \u001b[39mpdf_hist\u001b[39m(\u001b[39mself\u001b[39m, X, y, class_labels):\n\u001b[1;32m---> <a href='vscode-notebook-cell:/c%3A/Users/idawe/OneDrive/Dokumenter/GitHub/Clothing_classification-/NaiveBayes.ipynb#X11sZmlsZQ%3D%3D?line=11'>12</a>\u001b[0m     \u001b[39mself\u001b[39m\u001b[39m.\u001b[39mconditionals \u001b[39m=\u001b[39m \u001b[39mdict\u001b[39;49m()\n\u001b[0;32m     <a href='vscode-notebook-cell:/c%3A/Users/idawe/OneDrive/Dokumenter/GitHub/Clothing_classification-/NaiveBayes.ipynb#X11sZmlsZQ%3D%3D?line=13'>14</a>\u001b[0m     \u001b[39mfor\u001b[39;00m cl \u001b[39min\u001b[39;00m class_labels:\n\u001b[0;32m     <a href='vscode-notebook-cell:/c%3A/Users/idawe/OneDrive/Dokumenter/GitHub/Clothing_classification-/NaiveBayes.ipynb#X11sZmlsZQ%3D%3D?line=14'>15</a>\u001b[0m         \u001b[39mfor\u001b[39;00m x \u001b[39min\u001b[39;00m X[y \u001b[39m==\u001b[39m cl]:\n",
      "\u001b[1;31mTypeError\u001b[0m: 'dict' object is not callable"
     ]
    }
   ],
   "source": [
    "NB.fit(X_train, y_train)"
   ]
  },
  {
   "cell_type": "code",
   "execution_count": 98,
   "metadata": {},
   "outputs": [
    {
     "data": {
      "text/plain": [
       "{0: 0.2033, 1: 0.1947, 2: 0.2001, 3: 0.2005, 4: 0.2014}"
      ]
     },
     "execution_count": 98,
     "metadata": {},
     "output_type": "execute_result"
    }
   ],
   "source": [
    "NB.priors"
   ]
  },
  {
   "cell_type": "code",
   "execution_count": 97,
   "metadata": {},
   "outputs": [],
   "source": [
    "NB.conditionals"
   ]
  },
  {
   "cell_type": "code",
   "execution_count": 47,
   "metadata": {},
   "outputs": [
    {
     "data": {
      "text/plain": [
       "(array([0.02007002, 0.00128939, 0.00160899, 0.00168448, 0.00183462,\n",
       "        0.00190015, 0.0022576 , 0.00261423, 0.00352023, 0.00243597]),\n",
       " array([  0. ,  25.5,  51. ,  76.5, 102. , 127.5, 153. , 178.5, 204. ,\n",
       "        229.5, 255. ]))"
      ]
     },
     "execution_count": 47,
     "metadata": {},
     "output_type": "execute_result"
    }
   ],
   "source": [
    "bins = 10\n",
    "np.histogram(X_train, bins, density = True)"
   ]
  },
  {
   "cell_type": "code",
   "execution_count": 99,
   "metadata": {},
   "outputs": [],
   "source": [
    "dict = {}"
   ]
  },
  {
   "cell_type": "code",
   "execution_count": 101,
   "metadata": {},
   "outputs": [],
   "source": [
    "dict[10]=2"
   ]
  },
  {
   "cell_type": "code",
   "execution_count": 102,
   "metadata": {},
   "outputs": [
    {
     "data": {
      "text/plain": [
       "{10: 2}"
      ]
     },
     "execution_count": 102,
     "metadata": {},
     "output_type": "execute_result"
    }
   ],
   "source": [
    "dict"
   ]
  },
  {
   "cell_type": "code",
   "execution_count": 43,
   "metadata": {},
   "outputs": [
    {
     "data": {
      "text/plain": [
       "array([1, 1], dtype=int64)"
      ]
     },
     "execution_count": 43,
     "metadata": {},
     "output_type": "execute_result"
    }
   ],
   "source": [
    "np.argmax(l, axis=1)"
   ]
  },
  {
   "cell_type": "code",
   "execution_count": 39,
   "metadata": {},
   "outputs": [
    {
     "ename": "TypeError",
     "evalue": "unsupported operand type(s) for /: 'list' and 'int'",
     "output_type": "error",
     "traceback": [
      "\u001b[1;31m---------------------------------------------------------------------------\u001b[0m",
      "\u001b[1;31mTypeError\u001b[0m                                 Traceback (most recent call last)",
      "\u001b[1;32mc:\\Users\\idawe\\OneDrive\\Dokumenter\\GitHub\\Clothing_classification-\\NaiveBayes.ipynb Cell 15\u001b[0m line \u001b[0;36m1\n\u001b[1;32m----> <a href='vscode-notebook-cell:/c%3A/Users/idawe/OneDrive/Dokumenter/GitHub/Clothing_classification-/NaiveBayes.ipynb#X21sZmlsZQ%3D%3D?line=0'>1</a>\u001b[0m l\u001b[39m/\u001b[39;49m\u001b[39msum\u001b[39;49m(l)\n",
      "\u001b[1;31mTypeError\u001b[0m: unsupported operand type(s) for /: 'list' and 'int'"
     ]
    }
   ],
   "source": [
    "l/sum(l)"
   ]
  },
  {
   "cell_type": "code",
   "execution_count": 40,
   "metadata": {},
   "outputs": [
    {
     "data": {
      "text/plain": [
       "array([0.3 , 0.35, 0.35])"
      ]
     },
     "execution_count": 40,
     "metadata": {},
     "output_type": "execute_result"
    }
   ],
   "source": [
    "l/np.sum(l)"
   ]
  },
  {
   "cell_type": "code",
   "execution_count": 110,
   "metadata": {},
   "outputs": [
    {
     "ename": "ValueError",
     "evalue": "Number of dimensions is greater than number of samples. This results in a singular data covariance matrix, which cannot be treated using the algorithms implemented in `gaussian_kde`. Note that `gaussian_kde` interprets each *column* of `dataset` to be a point; consider transposing the input to `dataset`.",
     "output_type": "error",
     "traceback": [
      "\u001b[1;31m---------------------------------------------------------------------------\u001b[0m",
      "\u001b[1;31mValueError\u001b[0m                                Traceback (most recent call last)",
      "\u001b[1;32mc:\\Users\\idawe\\OneDrive\\Dokumenter\\GitHub\\Clothing_classification-\\NaiveBayes.ipynb Cell 16\u001b[0m line \u001b[0;36m1\n\u001b[1;32m----> <a href='vscode-notebook-cell:/c%3A/Users/idawe/OneDrive/Dokumenter/GitHub/Clothing_classification-/NaiveBayes.ipynb#X23sZmlsZQ%3D%3D?line=0'>1</a>\u001b[0m sts\u001b[39m.\u001b[39;49mgaussian_kde(X_train)\n",
      "File \u001b[1;32m~\\AppData\\Local\\Packages\\PythonSoftwareFoundation.Python.3.11_qbz5n2kfra8p0\\LocalCache\\local-packages\\Python311\\site-packages\\scipy\\stats\\_kde.py:220\u001b[0m, in \u001b[0;36mgaussian_kde.__init__\u001b[1;34m(self, dataset, bw_method, weights)\u001b[0m\n\u001b[0;32m    213\u001b[0m \u001b[39mif\u001b[39;00m \u001b[39mself\u001b[39m\u001b[39m.\u001b[39md \u001b[39m>\u001b[39m \u001b[39mself\u001b[39m\u001b[39m.\u001b[39mn:\n\u001b[0;32m    214\u001b[0m     msg \u001b[39m=\u001b[39m (\u001b[39m\"\u001b[39m\u001b[39mNumber of dimensions is greater than number of samples. \u001b[39m\u001b[39m\"\u001b[39m\n\u001b[0;32m    215\u001b[0m            \u001b[39m\"\u001b[39m\u001b[39mThis results in a singular data covariance matrix, which \u001b[39m\u001b[39m\"\u001b[39m\n\u001b[0;32m    216\u001b[0m            \u001b[39m\"\u001b[39m\u001b[39mcannot be treated using the algorithms implemented in \u001b[39m\u001b[39m\"\u001b[39m\n\u001b[0;32m    217\u001b[0m            \u001b[39m\"\u001b[39m\u001b[39m`gaussian_kde`. Note that `gaussian_kde` interprets each \u001b[39m\u001b[39m\"\u001b[39m\n\u001b[0;32m    218\u001b[0m            \u001b[39m\"\u001b[39m\u001b[39m*column* of `dataset` to be a point; consider transposing \u001b[39m\u001b[39m\"\u001b[39m\n\u001b[0;32m    219\u001b[0m            \u001b[39m\"\u001b[39m\u001b[39mthe input to `dataset`.\u001b[39m\u001b[39m\"\u001b[39m)\n\u001b[1;32m--> 220\u001b[0m     \u001b[39mraise\u001b[39;00m \u001b[39mValueError\u001b[39;00m(msg)\n\u001b[0;32m    222\u001b[0m \u001b[39mtry\u001b[39;00m:\n\u001b[0;32m    223\u001b[0m     \u001b[39mself\u001b[39m\u001b[39m.\u001b[39mset_bandwidth(bw_method\u001b[39m=\u001b[39mbw_method)\n",
      "\u001b[1;31mValueError\u001b[0m: Number of dimensions is greater than number of samples. This results in a singular data covariance matrix, which cannot be treated using the algorithms implemented in `gaussian_kde`. Note that `gaussian_kde` interprets each *column* of `dataset` to be a point; consider transposing the input to `dataset`."
     ]
    }
   ],
   "source": [
    "sts.gaussian_kde(X_train)"
   ]
  },
  {
   "cell_type": "code",
   "execution_count": 111,
   "metadata": {},
   "outputs": [
    {
     "data": {
      "text/plain": [
       "(10000, 784)"
      ]
     },
     "execution_count": 111,
     "metadata": {},
     "output_type": "execute_result"
    }
   ],
   "source": [
    "X_train.shape"
   ]
  },
  {
   "cell_type": "code",
   "execution_count": 114,
   "metadata": {},
   "outputs": [],
   "source": [
    "def measure(n):\n",
    "    \"Measurement model, return two coupled measurements.\"\n",
    "    m1 = np.random.normal(size=n)\n",
    "    m2 = np.random.normal(scale=0.5, size=n)\n",
    "    return m1+m2, m1-m2\n",
    "\n",
    "m1, m2 = measure(2000)\n",
    "xmin = m1.min()\n",
    "xmax = m1.max()\n",
    "ymin = m2.min()\n",
    "ymax = m2.max()"
   ]
  },
  {
   "cell_type": "code",
   "execution_count": 115,
   "metadata": {},
   "outputs": [],
   "source": [
    "X, Y = np.mgrid[xmin:xmax:100j, ymin:ymax:100j]\n",
    "positions = np.vstack([X.ravel(), Y.ravel()])\n",
    "values = np.vstack([m1, m2])"
   ]
  },
  {
   "cell_type": "code",
   "execution_count": 118,
   "metadata": {},
   "outputs": [
    {
     "data": {
      "text/plain": [
       "(2, 2000)"
      ]
     },
     "execution_count": 118,
     "metadata": {},
     "output_type": "execute_result"
    }
   ],
   "source": [
    "values.shape"
   ]
  },
  {
   "cell_type": "code",
   "execution_count": null,
   "metadata": {},
   "outputs": [],
   "source": []
  }
 ],
 "metadata": {
  "kernelspec": {
   "display_name": "Python 3",
   "language": "python",
   "name": "python3"
  },
  "language_info": {
   "codemirror_mode": {
    "name": "ipython",
    "version": 3
   },
   "file_extension": ".py",
   "mimetype": "text/x-python",
   "name": "python",
   "nbconvert_exporter": "python",
   "pygments_lexer": "ipython3",
   "version": "3.11.6"
  }
 },
 "nbformat": 4,
 "nbformat_minor": 2
}
